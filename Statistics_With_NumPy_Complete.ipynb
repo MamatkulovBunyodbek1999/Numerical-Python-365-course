{
  "cells": [
    {
      "cell_type": "markdown",
      "metadata": {
        "id": "view-in-github",
        "colab_type": "text"
      },
      "source": [
        "<a href=\"https://colab.research.google.com/github/MamatkulovBunyodbek1999/Numerical-Python-365-course/blob/main/Statistics_With_NumPy_Complete.ipynb\" target=\"_parent\"><img src=\"https://colab.research.google.com/assets/colab-badge.svg\" alt=\"Open In Colab\"/></a>"
      ]
    },
    {
      "cell_type": "markdown",
      "metadata": {
        "id": "vnt4B8WpbRxd"
      },
      "source": [
        "# Statistsics w/ NumPy"
      ]
    },
    {
      "cell_type": "code",
      "execution_count": 1,
      "metadata": {
        "id": "Gt7IgvlEbRxh"
      },
      "outputs": [],
      "source": [
        "import numpy as np"
      ]
    },
    {
      "cell_type": "markdown",
      "metadata": {
        "id": "zleki9ZIbRxi"
      },
      "source": [
        "### np.mean()"
      ]
    },
    {
      "cell_type": "code",
      "execution_count": 2,
      "metadata": {
        "colab": {
          "base_uri": "https://localhost:8080/"
        },
        "id": "aBiROCJibRxi",
        "outputId": "f4e9eac1-8de4-4ab0-d8f6-1846c59e3a10"
      },
      "outputs": [
        {
          "output_type": "execute_result",
          "data": {
            "text/plain": [
              "array([[1, 0, 0, 3, 1],\n",
              "       [3, 6, 6, 2, 9],\n",
              "       [4, 5, 3, 8, 0]])"
            ]
          },
          "metadata": {},
          "execution_count": 2
        }
      ],
      "source": [
        "matrix_A = np.array([[1,0,0,3,1],[3,6,6,2,9],[4,5,3,8,0]])\n",
        "matrix_A"
      ]
    },
    {
      "cell_type": "code",
      "execution_count": 3,
      "metadata": {
        "scrolled": true,
        "colab": {
          "base_uri": "https://localhost:8080/"
        },
        "id": "EX7kLmQrbRxj",
        "outputId": "db8906dc-98f1-461f-890d-04d42e1fce0b"
      },
      "outputs": [
        {
          "output_type": "execute_result",
          "data": {
            "text/plain": [
              "array([1. , 5.2, 4. ])"
            ]
          },
          "metadata": {},
          "execution_count": 3
        }
      ],
      "source": [
        "np.mean(matrix_A, axis = 1)\n",
        "\n",
        "# We can call the function over a given axis (e.g for every row or column when it comes to 2-D arrays)"
      ]
    },
    {
      "cell_type": "code",
      "execution_count": 4,
      "metadata": {
        "colab": {
          "base_uri": "https://localhost:8080/"
        },
        "id": "fVOqFcq3bRxj",
        "outputId": "0199c9b3-05cc-48b6-e1c5-748927d2a992"
      },
      "outputs": [
        {
          "output_type": "execute_result",
          "data": {
            "text/plain": [
              "3.4"
            ]
          },
          "metadata": {},
          "execution_count": 4
        }
      ],
      "source": [
        "matrix_A.mean()\n",
        "\n",
        "# An equivalent method exists."
      ]
    },
    {
      "cell_type": "code",
      "execution_count": 5,
      "metadata": {
        "id": "D8OzkctfbRxk"
      },
      "outputs": [],
      "source": [
        "# matrix_A.sqrt()\n",
        "\n",
        "# Results in an attribute error, since not every function has an equivalent method."
      ]
    },
    {
      "cell_type": "code",
      "execution_count": 6,
      "metadata": {
        "scrolled": true,
        "colab": {
          "base_uri": "https://localhost:8080/"
        },
        "id": "F7fjj8X8bRxk",
        "outputId": "f0ef5bbf-a401-49e3-8b29-2a623196ee38"
      },
      "outputs": [
        {
          "output_type": "execute_result",
          "data": {
            "text/plain": [
              "array([1, 5, 4])"
            ]
          },
          "metadata": {},
          "execution_count": 6
        }
      ],
      "source": [
        "np.mean(matrix_A, axis = 1, dtype = np.int64)\n",
        "\n",
        "## We can cast the values to a specific type as well."
      ]
    },
    {
      "cell_type": "markdown",
      "metadata": {
        "id": "2ZRLOvzBbRxk"
      },
      "source": [
        "### Min & Max Values"
      ]
    },
    {
      "cell_type": "code",
      "execution_count": 7,
      "metadata": {
        "id": "W5-5VJP0bRxl"
      },
      "outputs": [],
      "source": [
        "import numpy as np"
      ]
    },
    {
      "cell_type": "code",
      "execution_count": 8,
      "metadata": {
        "colab": {
          "base_uri": "https://localhost:8080/"
        },
        "id": "-wqmWUr4bRxl",
        "outputId": "786af828-8ec0-445a-dff0-5b11467cbc93"
      },
      "outputs": [
        {
          "output_type": "execute_result",
          "data": {
            "text/plain": [
              "array([[1, 0, 0, 3, 1],\n",
              "       [3, 6, 6, 2, 9],\n",
              "       [4, 5, 3, 8, 0]])"
            ]
          },
          "metadata": {},
          "execution_count": 8
        }
      ],
      "source": [
        "matrix_A = np.array([[1,0,0,3,1],[3,6,6,2,9],[4,5,3,8,0]])\n",
        "matrix_A"
      ]
    },
    {
      "cell_type": "code",
      "execution_count": 9,
      "metadata": {
        "colab": {
          "base_uri": "https://localhost:8080/"
        },
        "id": "p7AIoTsabRxl",
        "outputId": "e3da55c5-da83-4cd1-f73b-017bb8411ca6"
      },
      "outputs": [
        {
          "output_type": "execute_result",
          "data": {
            "text/plain": [
              "0"
            ]
          },
          "metadata": {},
          "execution_count": 9
        }
      ],
      "source": [
        "np.min(matrix_A)\n",
        "\n",
        "# Returns the minimum value."
      ]
    },
    {
      "cell_type": "code",
      "execution_count": 10,
      "metadata": {
        "colab": {
          "base_uri": "https://localhost:8080/"
        },
        "id": "JdFnNDHIbRxm",
        "outputId": "7730f1d1-33a1-4cc1-a945-460a08e736d2"
      },
      "outputs": [
        {
          "output_type": "execute_result",
          "data": {
            "text/plain": [
              "0"
            ]
          },
          "metadata": {},
          "execution_count": 10
        }
      ],
      "source": [
        "np.amin(matrix_A)\n",
        "\n",
        "# Equivalent function (literally just a different alias for np.min())"
      ]
    },
    {
      "cell_type": "code",
      "execution_count": 11,
      "metadata": {
        "colab": {
          "base_uri": "https://localhost:8080/"
        },
        "id": "C4vcCCMSbRxm",
        "outputId": "d7dd3a3c-b880-484d-a561-0bb3ee311e3d"
      },
      "outputs": [
        {
          "output_type": "execute_result",
          "data": {
            "text/plain": [
              "array([3, 5, 3, 2, 0])"
            ]
          },
          "metadata": {},
          "execution_count": 11
        }
      ],
      "source": [
        "np.minimum(matrix_A[1], matrix_A[2])\n",
        "\n",
        "# Elementwise minimum. Returns the lowest value out of a given set.\n",
        "# In this case, np.minimum() returns the lower value every position across the two arrays. (e.g. lowest value in 1st position, 2nd, etc)"
      ]
    },
    {
      "cell_type": "code",
      "execution_count": 12,
      "metadata": {
        "colab": {
          "base_uri": "https://localhost:8080/"
        },
        "id": "-LNhfxLxbRxm",
        "outputId": "2dfcbe05-945d-4048-aa1d-8c77f37a260f"
      },
      "outputs": [
        {
          "output_type": "execute_result",
          "data": {
            "text/plain": [
              "array([1, 0, 0, 2, 0])"
            ]
          },
          "metadata": {},
          "execution_count": 12
        }
      ],
      "source": [
        "np.minimum.reduce(matrix_A)\n",
        "\n",
        "## A way to make minimum() equivalent to min()"
      ]
    },
    {
      "cell_type": "code",
      "execution_count": 13,
      "metadata": {
        "colab": {
          "base_uri": "https://localhost:8080/"
        },
        "id": "8ioMW6F0bRxn",
        "outputId": "f8f9ec79-e653-4d0d-ce70-4699f00dcefa"
      },
      "outputs": [
        {
          "output_type": "execute_result",
          "data": {
            "text/plain": [
              "array([1, 0, 0, 2, 0])"
            ]
          },
          "metadata": {},
          "execution_count": 13
        }
      ],
      "source": [
        "np.min(matrix_A, axis = 0)"
      ]
    },
    {
      "cell_type": "code",
      "execution_count": 14,
      "metadata": {
        "colab": {
          "base_uri": "https://localhost:8080/"
        },
        "id": "C-jf8LqKbRxn",
        "outputId": "93a99dd7-abc9-4259-827a-c45cf22ff14c"
      },
      "outputs": [
        {
          "output_type": "execute_result",
          "data": {
            "text/plain": [
              "9"
            ]
          },
          "metadata": {},
          "execution_count": 14
        }
      ],
      "source": [
        "np.max(matrix_A)\n",
        "\n",
        "## Corresponding max, a max and maximum functions exist."
      ]
    },
    {
      "cell_type": "code",
      "execution_count": 15,
      "metadata": {
        "colab": {
          "base_uri": "https://localhost:8080/"
        },
        "id": "PgNbeRgHbRxn",
        "outputId": "956f11e5-9c86-4d20-c3e3-116b620a37d3"
      },
      "outputs": [
        {
          "output_type": "execute_result",
          "data": {
            "text/plain": [
              "9"
            ]
          },
          "metadata": {},
          "execution_count": 15
        }
      ],
      "source": [
        "np.amax(matrix_A)"
      ]
    },
    {
      "cell_type": "code",
      "execution_count": 16,
      "metadata": {
        "colab": {
          "base_uri": "https://localhost:8080/"
        },
        "id": "l3Wj8zKQbRxn",
        "outputId": "51bbb7c3-62fd-4c16-8fbb-44ea4bce7200"
      },
      "outputs": [
        {
          "output_type": "execute_result",
          "data": {
            "text/plain": [
              "array([4, 6, 6, 8, 9])"
            ]
          },
          "metadata": {},
          "execution_count": 16
        }
      ],
      "source": [
        "np.maximum.reduce(matrix_A)"
      ]
    },
    {
      "cell_type": "markdown",
      "metadata": {
        "id": "2ahEZXlGbRxn"
      },
      "source": [
        "### Statistical Order Functions"
      ]
    },
    {
      "cell_type": "code",
      "execution_count": 17,
      "metadata": {
        "id": "3gnjq0C8bRxo"
      },
      "outputs": [],
      "source": [
        "import numpy as np"
      ]
    },
    {
      "cell_type": "code",
      "execution_count": 18,
      "metadata": {
        "colab": {
          "base_uri": "https://localhost:8080/"
        },
        "id": "un6XL2hvbRxo",
        "outputId": "6cde72fc-8228-46f9-b79c-236fb7319894"
      },
      "outputs": [
        {
          "output_type": "execute_result",
          "data": {
            "text/plain": [
              "array([[1, 0, 0, 3, 1],\n",
              "       [3, 6, 6, 2, 9],\n",
              "       [4, 5, 3, 8, 0]])"
            ]
          },
          "metadata": {},
          "execution_count": 18
        }
      ],
      "source": [
        "matrix_A = np.array([[1,0,0,3,1],[3,6,6,2,9],[4,5,3,8,0]])\n",
        "matrix_A"
      ]
    },
    {
      "cell_type": "code",
      "execution_count": 19,
      "metadata": {
        "colab": {
          "base_uri": "https://localhost:8080/"
        },
        "id": "j6t-Yeu_bRxo",
        "outputId": "206fe508-fcf8-481e-bff0-a144ad478b07"
      },
      "outputs": [
        {
          "output_type": "execute_result",
          "data": {
            "text/plain": [
              "9"
            ]
          },
          "metadata": {},
          "execution_count": 19
        }
      ],
      "source": [
        "np.ptp(matrix_A)\n",
        "\n",
        "## Returns difference between max and min (peak-to-peak) over the flattened array."
      ]
    },
    {
      "cell_type": "code",
      "execution_count": 20,
      "metadata": {
        "colab": {
          "base_uri": "https://localhost:8080/"
        },
        "id": "jw5jZ3bGbRxo",
        "outputId": "1bce3150-d799-473e-e3b8-d1b921821572"
      },
      "outputs": [
        {
          "output_type": "execute_result",
          "data": {
            "text/plain": [
              "array([3, 6, 6, 6, 9])"
            ]
          },
          "metadata": {},
          "execution_count": 20
        }
      ],
      "source": [
        "np.ptp(matrix_A, axis = 0)\n",
        "\n",
        "## Returns difference between max and min (peak-to-peak) for every column."
      ]
    },
    {
      "cell_type": "code",
      "execution_count": 21,
      "metadata": {
        "colab": {
          "base_uri": "https://localhost:8080/"
        },
        "id": "sPrkISrDbRxo",
        "outputId": "1d71b1a4-003c-46fe-dbb0-47400cd192df"
      },
      "outputs": [
        {
          "output_type": "execute_result",
          "data": {
            "text/plain": [
              "array([3, 7, 8])"
            ]
          },
          "metadata": {},
          "execution_count": 21
        }
      ],
      "source": [
        "np.ptp(matrix_A, axis = 1)\n",
        "\n",
        "## Returns difference between max and min (peak-to-peak) for every row."
      ]
    },
    {
      "cell_type": "code",
      "execution_count": null,
      "metadata": {
        "id": "DNCBwSChbRxp",
        "outputId": "5656d678-f85e-46ec-8bf8-2a92cb5fb666"
      },
      "outputs": [
        {
          "data": {
            "text/plain": [
              "array([0, 0, 0, 1, 1, 2, 3, 3, 3, 4, 5, 6, 6, 8, 9])"
            ]
          },
          "execution_count": 32,
          "metadata": {},
          "output_type": "execute_result"
        }
      ],
      "source": [
        "np.sort(matrix_A, axis = None)\n",
        "\n",
        "# A sorted version of the flattened matrix_A"
      ]
    },
    {
      "cell_type": "code",
      "execution_count": null,
      "metadata": {
        "id": "kEBCF6MkbRxp",
        "outputId": "a8dbc8f5-a7af-41e7-f8ca-05e7511b03d2"
      },
      "outputs": [
        {
          "data": {
            "text/plain": [
              "numpy.float64"
            ]
          },
          "execution_count": 39,
          "metadata": {},
          "output_type": "execute_result"
        }
      ],
      "source": [
        "type(np.percentile(matrix_A, 70))\n",
        "# N-th Percentile = A value which is greater than n% of the dataset."
      ]
    },
    {
      "cell_type": "code",
      "execution_count": null,
      "metadata": {
        "id": "2J_bEefWbRxp",
        "outputId": "652b0111-10bf-495e-976e-8b1cfead0503"
      },
      "outputs": [
        {
          "data": {
            "text/plain": [
              "9.0"
            ]
          },
          "execution_count": 42,
          "metadata": {},
          "output_type": "execute_result"
        }
      ],
      "source": [
        "np.percentile(matrix_A, 100)\n",
        "\n",
        "# 100-th percentile = max\n",
        "# 50-th percentile = median\n",
        "# 0-th percentile = min"
      ]
    },
    {
      "cell_type": "code",
      "execution_count": null,
      "metadata": {
        "id": "yuVVKlUZbRxp",
        "outputId": "3a4e379b-827e-4cd4-b083-4a5c83e64adb"
      },
      "outputs": [
        {
          "data": {
            "text/plain": [
              "5"
            ]
          },
          "execution_count": 44,
          "metadata": {},
          "output_type": "execute_result"
        }
      ],
      "source": [
        "np.quantile(matrix_A, 0.70, interpolation = \"nearest\")\n",
        "\n",
        "# Quantile -> Similar to percentile, but works with parts of the dataset, rather than percentages.\n",
        "# Hence, the N-th Quantile = 100*N-th Percentile of the same dataset."
      ]
    },
    {
      "cell_type": "markdown",
      "metadata": {
        "id": "KbfZZ_41bRxp"
      },
      "source": [
        "### Averages and Variances"
      ]
    },
    {
      "cell_type": "code",
      "execution_count": null,
      "metadata": {
        "id": "0wzqaymCbRxp"
      },
      "outputs": [],
      "source": [
        "import numpy as np"
      ]
    },
    {
      "cell_type": "code",
      "execution_count": null,
      "metadata": {
        "id": "CToeR13NbRxq",
        "outputId": "38801f37-a590-4da1-8544-9f4325f59021"
      },
      "outputs": [
        {
          "data": {
            "text/plain": [
              "array([[1, 0, 0, 3, 1],\n",
              "       [3, 6, 6, 2, 9],\n",
              "       [4, 5, 3, 8, 0]])"
            ]
          },
          "execution_count": 46,
          "metadata": {},
          "output_type": "execute_result"
        }
      ],
      "source": [
        "matrix_A = np.array([[1,0,0,3,1],[3,6,6,2,9],[4,5,3,8,0]])\n",
        "matrix_A"
      ]
    },
    {
      "cell_type": "code",
      "execution_count": null,
      "metadata": {
        "id": "wdOeMS3BbRxq",
        "outputId": "675342f2-bf9d-4811-dbd2-46b6ef12bdaa"
      },
      "outputs": [
        {
          "data": {
            "text/plain": [
              "3.0"
            ]
          },
          "execution_count": 47,
          "metadata": {},
          "output_type": "execute_result"
        }
      ],
      "source": [
        "np.median(matrix_A)\n",
        "\n",
        "# Returns the median for the flattened array.\n",
        "# Median -> The middle value of a sorted version of the dataset."
      ]
    },
    {
      "cell_type": "code",
      "execution_count": null,
      "metadata": {
        "id": "iljT2dz_bRxq",
        "outputId": "9c960928-3cce-48bc-b76d-c56994a49d15"
      },
      "outputs": [
        {
          "data": {
            "text/plain": [
              "array([0, 0, 0, 1, 1, 2, 3, 3, 3, 4, 5, 6, 6, 8, 9])"
            ]
          },
          "execution_count": 48,
          "metadata": {},
          "output_type": "execute_result"
        }
      ],
      "source": [
        "np.sort(matrix_A, axis = None)"
      ]
    },
    {
      "cell_type": "code",
      "execution_count": null,
      "metadata": {
        "id": "i17iaK9KbRxq",
        "outputId": "e196ca4b-ed05-4130-f5f3-9d44e0bf9db8"
      },
      "outputs": [
        {
          "data": {
            "text/plain": [
              "3.4"
            ]
          },
          "execution_count": 49,
          "metadata": {},
          "output_type": "execute_result"
        }
      ],
      "source": [
        "np.mean(matrix_A)\n",
        "\n",
        "# The arithmetic average of the flattened array."
      ]
    },
    {
      "cell_type": "code",
      "execution_count": null,
      "metadata": {
        "id": "jmAHe2rpbRxr",
        "outputId": "fce0e259-3009-4dc4-9a19-6870779ca05e"
      },
      "outputs": [
        {
          "data": {
            "text/plain": [
              "3.4"
            ]
          },
          "execution_count": 50,
          "metadata": {},
          "output_type": "execute_result"
        }
      ],
      "source": [
        "np.average(matrix_A)\n",
        "\n",
        "# The average of the flattened array."
      ]
    },
    {
      "cell_type": "code",
      "execution_count": null,
      "metadata": {
        "id": "BVv5yIH7bRxr",
        "outputId": "5ffc5c32-d375-42e4-acfd-a90b13fece26"
      },
      "outputs": [
        {
          "data": {
            "text/plain": [
              "array([[0.75915734, 0.7662218 , 0.6291028 , 0.20336599, 0.66501486],\n",
              "       [0.06559111, 0.71326309, 0.10812106, 0.87969046, 0.49405844],\n",
              "       [0.82472673, 0.45652944, 0.07367232, 0.69628564, 0.36690736]])"
            ]
          },
          "execution_count": 51,
          "metadata": {},
          "output_type": "execute_result"
        }
      ],
      "source": [
        "from numpy.random import Generator as gen\n",
        "from numpy.random import PCG64 as pcg\n",
        "\n",
        "array_RG = gen(pcg(365))\n",
        "\n",
        "array_weights = array_RG.random(size = (3,5))\n",
        "array_weights\n",
        "\n",
        "# Generating some random weights for each entry of matrix_A (for the sake of the example)"
      ]
    },
    {
      "cell_type": "code",
      "execution_count": null,
      "metadata": {
        "id": "qeI3pV_cbRxr",
        "outputId": "8320f2f0-534b-4c97-cc77-b2a4d21ebb1a"
      },
      "outputs": [
        {
          "data": {
            "text/plain": [
              "3.2120290871899306"
            ]
          },
          "execution_count": 52,
          "metadata": {},
          "output_type": "execute_result"
        }
      ],
      "source": [
        "np.average(matrix_A, weights = array_weights)\n",
        "\n",
        "# The weighted average of the flattened array."
      ]
    },
    {
      "cell_type": "code",
      "execution_count": null,
      "metadata": {
        "id": "fZDR8_eabRxs",
        "outputId": "6c19dc19-cca0-49be-b8ea-646750ea1cf9"
      },
      "outputs": [
        {
          "data": {
            "text/plain": [
              "7.84"
            ]
          },
          "execution_count": 53,
          "metadata": {},
          "output_type": "execute_result"
        }
      ],
      "source": [
        "np.var(matrix_A)\n",
        "\n",
        "# The variance of the array."
      ]
    },
    {
      "cell_type": "code",
      "execution_count": null,
      "metadata": {
        "id": "ojuZJhlcbRxs",
        "outputId": "6eab3419-4a24-4c53-8570-e36b9f96b1f2"
      },
      "outputs": [
        {
          "data": {
            "text/plain": [
              "2.8"
            ]
          },
          "execution_count": 55,
          "metadata": {},
          "output_type": "execute_result"
        }
      ],
      "source": [
        "np.std(matrix_A)\n",
        "\n",
        "# The standard deviation of the array."
      ]
    },
    {
      "cell_type": "code",
      "execution_count": null,
      "metadata": {
        "id": "girovpZCbRxt",
        "outputId": "f6a6028a-d6bf-406c-e1bf-1c9b080235dc"
      },
      "outputs": [
        {
          "data": {
            "text/plain": [
              "7.839999999999999"
            ]
          },
          "execution_count": 56,
          "metadata": {},
          "output_type": "execute_result"
        }
      ],
      "source": [
        "2.8**2"
      ]
    },
    {
      "cell_type": "markdown",
      "metadata": {
        "id": "AlrkZfpMbRxt"
      },
      "source": [
        "### Correlation"
      ]
    },
    {
      "cell_type": "code",
      "execution_count": null,
      "metadata": {
        "id": "r0eSo6s1bRxt"
      },
      "outputs": [],
      "source": [
        "import numpy as np"
      ]
    },
    {
      "cell_type": "code",
      "execution_count": null,
      "metadata": {
        "id": "GsGDh233bRxu",
        "outputId": "8ffc3aa2-6789-47c1-ef76-63bcfdf5b680"
      },
      "outputs": [
        {
          "data": {
            "text/plain": [
              "array([[1, 0, 0, 3, 1],\n",
              "       [3, 6, 6, 2, 9],\n",
              "       [4, 5, 3, 8, 0]])"
            ]
          },
          "execution_count": 62,
          "metadata": {},
          "output_type": "execute_result"
        }
      ],
      "source": [
        "matrix_A = np.array([[1,0,0,3,1],[3,6,6,2,9],[4,5,3,8,0]])\n",
        "matrix_A"
      ]
    },
    {
      "cell_type": "code",
      "execution_count": null,
      "metadata": {
        "id": "n7XhsBn3bRxu",
        "outputId": "e16b38a1-7f9d-4e91-bea9-984460d35479"
      },
      "outputs": [
        {
          "data": {
            "text/plain": [
              "array([[ 1.5, -2. ,  2. ],\n",
              "       [-2. ,  7.7, -7. ],\n",
              "       [ 2. , -7. ,  8.5]])"
            ]
          },
          "execution_count": 63,
          "metadata": {},
          "output_type": "execute_result"
        }
      ],
      "source": [
        "np.cov(matrix_A)\n",
        "\n",
        "# The covariance of every row (array) of matrix_A and every other row of the variable."
      ]
    },
    {
      "cell_type": "code",
      "execution_count": null,
      "metadata": {
        "id": "NVPlbeDYbRxv",
        "outputId": "1c3f9f62-2851-438d-9ad1-97f915536ae4"
      },
      "outputs": [
        {
          "data": {
            "text/plain": [
              "array([[ 1.        , -0.58848989,  0.56011203],\n",
              "       [-0.58848989,  1.        , -0.8652532 ],\n",
              "       [ 0.56011203, -0.8652532 ,  1.        ]])"
            ]
          },
          "execution_count": 64,
          "metadata": {},
          "output_type": "execute_result"
        }
      ],
      "source": [
        "np.corrcoef(matrix_A)\n",
        "\n",
        "# The correlation coefficient of every row (array) of matrix_A and every other row of the variable."
      ]
    },
    {
      "cell_type": "markdown",
      "metadata": {
        "id": "M1jWin0lbRxv"
      },
      "source": [
        "### Histograms"
      ]
    },
    {
      "cell_type": "code",
      "execution_count": null,
      "metadata": {
        "id": "YYEAJE5HbRxv"
      },
      "outputs": [],
      "source": [
        "import numpy as np"
      ]
    },
    {
      "cell_type": "code",
      "execution_count": null,
      "metadata": {
        "id": "4sAxvXf7bRxv",
        "outputId": "1e77b329-d550-455a-9ea8-5050cf2f87ba"
      },
      "outputs": [
        {
          "data": {
            "text/plain": [
              "array([[1, 0, 0, 3, 1],\n",
              "       [3, 6, 6, 2, 9],\n",
              "       [4, 5, 3, 8, 0]])"
            ]
          },
          "execution_count": 68,
          "metadata": {},
          "output_type": "execute_result"
        }
      ],
      "source": [
        "matrix_A = np.array([[1,0,0,3,1],[3,6,6,2,9],[4,5,3,8,0]])\n",
        "matrix_A"
      ]
    },
    {
      "cell_type": "code",
      "execution_count": null,
      "metadata": {
        "id": "K4VfJICebRxv",
        "outputId": "f3e6a276-c6ea-43b7-8436-ffd035be17c6"
      },
      "outputs": [
        {
          "data": {
            "text/plain": [
              "array([0, 0, 0, 1, 1, 2, 3, 3, 3, 4, 5, 6, 6, 8, 9])"
            ]
          },
          "execution_count": 69,
          "metadata": {},
          "output_type": "execute_result"
        }
      ],
      "source": [
        "np.sort(matrix_A, axis = None)"
      ]
    },
    {
      "cell_type": "code",
      "execution_count": null,
      "metadata": {
        "id": "2lp3GWh0bRxv",
        "outputId": "af4e773e-0b26-4bbe-d4b5-1f3207579160"
      },
      "outputs": [
        {
          "data": {
            "text/plain": [
              "(array([3, 3, 2, 2], dtype=int64), array([1. , 2.5, 4. , 5.5, 7. ]))"
            ]
          },
          "execution_count": 74,
          "metadata": {},
          "output_type": "execute_result"
        }
      ],
      "source": [
        "np.histogram(matrix_A, bins = 4, range = (1,7))\n",
        "\n",
        "# Computes the bin edges and how many points fall in each bin.\n",
        "# The 1-st array contains the number of points. The 2-nd array contains the bin edges."
      ]
    },
    {
      "cell_type": "code",
      "execution_count": null,
      "metadata": {
        "id": "ZWYfV83lbRxw",
        "outputId": "fb0cb0a7-5f0d-43d2-9ae2-5d262975a8aa"
      },
      "outputs": [
        {
          "data": {
            "image/png": "[encoded data removed]",
            "text/plain": [
              "<Figure size 432x288 with 1 Axes>"
            ]
          },
          "metadata": {
            "needs_background": "light"
          },
          "output_type": "display_data"
        }
      ],
      "source": [
        "import matplotlib.pyplot as plt\n",
        "plt.hist(matrix_A.flat, bins = np.histogram(matrix_A)[1])\n",
        "plt.show()\n",
        "\n",
        "# NumPy has no plotting capabilities, so we're using matplotlib's help.\n",
        "# .flat -> The flattened version of the array"
      ]
    },
    {
      "cell_type": "code",
      "execution_count": null,
      "metadata": {
        "id": "8P0sRXSUbRxw",
        "outputId": "d81b4b98-e030-4899-8f8a-9ca0b1cb52f9"
      },
      "outputs": [
        {
          "data": {
            "text/plain": [
              "array([[1, 0, 0, 3, 1],\n",
              "       [3, 6, 6, 2, 9],\n",
              "       [4, 5, 3, 8, 0]])"
            ]
          },
          "execution_count": 76,
          "metadata": {},
          "output_type": "execute_result"
        }
      ],
      "source": [
        "matrix_A"
      ]
    },
    {
      "cell_type": "code",
      "execution_count": null,
      "metadata": {
        "id": "l6qtN8mRbRxw",
        "outputId": "c3756e60-38c9-48fc-c1bd-eab4c2b81297"
      },
      "outputs": [
        {
          "data": {
            "text/plain": [
              "(array([[0., 0., 2., 0.],\n",
              "        [1., 0., 0., 1.],\n",
              "        [0., 0., 0., 0.],\n",
              "        [1., 0., 0., 0.]]),\n",
              " array([0.  , 0.75, 1.5 , 2.25, 3.  ]),\n",
              " array([2.  , 3.75, 5.5 , 7.25, 9.  ]))"
            ]
          },
          "execution_count": 77,
          "metadata": {},
          "output_type": "execute_result"
        }
      ],
      "source": [
        "np.histogram2d(matrix_A[0], matrix_A[1], bins = 4)\n",
        "\n",
        "# We pass two datasets for the 2-D histogram."
      ]
    },
    {
      "cell_type": "code",
      "execution_count": null,
      "metadata": {
        "scrolled": false,
        "id": "212vBh-wbRxw",
        "outputId": "1bbb3fa2-ba07-4aff-b305-a93fa0c10d86"
      },
      "outputs": [
        {
          "data": {
            "text/plain": [
              "(array([[[0., 0., 0., 0.],\n",
              "         [0., 0., 0., 0.],\n",
              "         [0., 1., 1., 0.],\n",
              "         [0., 0., 0., 0.]],\n",
              " \n",
              "        [[0., 0., 1., 0.],\n",
              "         [0., 0., 0., 0.],\n",
              "         [0., 0., 0., 0.],\n",
              "         [1., 0., 0., 0.]],\n",
              " \n",
              "        [[0., 0., 0., 0.],\n",
              "         [0., 0., 0., 0.],\n",
              "         [0., 0., 0., 0.],\n",
              "         [0., 0., 0., 0.]],\n",
              " \n",
              "        [[0., 0., 0., 1.],\n",
              "         [0., 0., 0., 0.],\n",
              "         [0., 0., 0., 0.],\n",
              "         [0., 0., 0., 0.]]]),\n",
              " [array([0.  , 0.75, 1.5 , 2.25, 3.  ]),\n",
              "  array([2.  , 3.75, 5.5 , 7.25, 9.  ]),\n",
              "  array([0., 2., 4., 6., 8.])])"
            ]
          },
          "execution_count": 78,
          "metadata": {},
          "output_type": "execute_result"
        }
      ],
      "source": [
        "np.histogramdd(matrix_A.transpose(), bins = 4)"
      ]
    },
    {
      "cell_type": "markdown",
      "metadata": {
        "id": "qpB1_heRbRxw"
      },
      "source": [
        "### NaN-Equivalents"
      ]
    },
    {
      "cell_type": "code",
      "execution_count": null,
      "metadata": {
        "id": "tMW74i2NbRxw"
      },
      "outputs": [],
      "source": [
        "import numpy as np"
      ]
    },
    {
      "cell_type": "code",
      "execution_count": null,
      "metadata": {
        "id": "ipDFFfOObRxw",
        "outputId": "274a4848-4610-4ccf-f74d-79b6701ed94f"
      },
      "outputs": [
        {
          "data": {
            "text/plain": [
              "array([[1, 0, 0, 3, 1],\n",
              "       [3, 6, 6, 2, 9],\n",
              "       [4, 5, 3, 8, 0]])"
            ]
          },
          "execution_count": 80,
          "metadata": {},
          "output_type": "execute_result"
        }
      ],
      "source": [
        "matrix_A = np.array([[1,0,0,3,1],[3,6,6,2,9],[4,5,3,8,0]])\n",
        "matrix_A"
      ]
    },
    {
      "cell_type": "code",
      "execution_count": null,
      "metadata": {
        "id": "tw2sCiZUbRxw",
        "outputId": "bc2d70f9-fa36-49e2-ab8d-a13bc2cc05ab"
      },
      "outputs": [
        {
          "data": {
            "text/plain": [
              "3.4"
            ]
          },
          "execution_count": 81,
          "metadata": {},
          "output_type": "execute_result"
        }
      ],
      "source": [
        "np.nanmean(matrix_A)"
      ]
    },
    {
      "cell_type": "code",
      "execution_count": null,
      "metadata": {
        "id": "CrLx5eTybRxw",
        "outputId": "fd3eb2ff-afeb-487c-eccd-e3ef2594956b"
      },
      "outputs": [
        {
          "data": {
            "text/plain": [
              "3.4"
            ]
          },
          "execution_count": 82,
          "metadata": {},
          "output_type": "execute_result"
        }
      ],
      "source": [
        "np.mean(matrix_A)\n",
        "\n",
        "# NAN functions work the same way as non-NAN functions for non-NAN datasets"
      ]
    },
    {
      "cell_type": "code",
      "execution_count": null,
      "metadata": {
        "id": "ZfK7oJQJbRxw",
        "outputId": "ca840edd-8480-435d-c207-b03231cf8a5d"
      },
      "outputs": [
        {
          "data": {
            "text/plain": [
              "array([[ 1.,  0.,  0.,  3.,  1.],\n",
              "       [ 3.,  6., nan,  2.,  9.],\n",
              "       [ 4.,  5.,  3.,  8.,  0.]])"
            ]
          },
          "execution_count": 83,
          "metadata": {},
          "output_type": "execute_result"
        }
      ],
      "source": [
        "matrix_B = np.array([[1,0,0,3,1],[3,6,np.nan,2,9],[4,5,3,8,0]])\n",
        "matrix_B"
      ]
    },
    {
      "cell_type": "code",
      "execution_count": null,
      "metadata": {
        "id": "8OXvP04DbRxw",
        "outputId": "707a1fb3-68d2-4d1e-a4f5-29d38220f0cb"
      },
      "outputs": [
        {
          "data": {
            "text/plain": [
              "3.2142857142857144"
            ]
          },
          "execution_count": 84,
          "metadata": {},
          "output_type": "execute_result"
        }
      ],
      "source": [
        "np.nanmean(matrix_B)\n",
        "\n",
        "# NAN functions ignore \"nan\" values and compute the mean."
      ]
    },
    {
      "cell_type": "code",
      "execution_count": null,
      "metadata": {
        "id": "yySSkC2jbRxx",
        "outputId": "958fa156-5e63-4ca1-8950-e200d583883b"
      },
      "outputs": [
        {
          "data": {
            "text/plain": [
              "nan"
            ]
          },
          "execution_count": 85,
          "metadata": {},
          "output_type": "execute_result"
        }
      ],
      "source": [
        "np.mean(matrix_B)\n",
        "\n",
        "# Non-NAN functions return \"nan\" when missing values are present."
      ]
    },
    {
      "cell_type": "code",
      "execution_count": null,
      "metadata": {
        "id": "kxqp3YLXbRxx",
        "outputId": "9a835c75-ac22-4323-e574-9f27d2b98355"
      },
      "outputs": [
        {
          "data": {
            "text/plain": [
              "4.1"
            ]
          },
          "execution_count": 86,
          "metadata": {},
          "output_type": "execute_result"
        }
      ],
      "source": [
        "np.nanquantile(matrix_B, 0.7)"
      ]
    },
    {
      "cell_type": "code",
      "execution_count": null,
      "metadata": {
        "id": "Z-B95_zabRxx",
        "outputId": "b515a57e-f83f-45fd-911e-f9026fac0d75"
      },
      "outputs": [
        {
          "data": {
            "text/plain": [
              "7.882653061224489"
            ]
          },
          "execution_count": 88,
          "metadata": {},
          "output_type": "execute_result"
        }
      ],
      "source": [
        "np.nanvar(matrix_B)"
      ]
    }
  ],
  "metadata": {
    "kernelspec": {
      "display_name": "Python 3",
      "language": "python",
      "name": "python3"
    },
    "language_info": {
      "codemirror_mode": {
        "name": "ipython",
        "version": 3
      },
      "file_extension": ".py",
      "mimetype": "text/x-python",
      "name": "python",
      "nbconvert_exporter": "python",
      "pygments_lexer": "ipython3",
      "version": "3.7.6"
    },
    "colab": {
      "provenance": [],
      "include_colab_link": true
    }
  },
  "nbformat": 4,
  "nbformat_minor": 0
}